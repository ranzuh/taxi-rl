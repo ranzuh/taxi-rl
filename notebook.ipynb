{
 "cells": [
  {
   "cell_type": "code",
   "execution_count": 2,
   "metadata": {},
   "outputs": [],
   "source": [
    "import gym\n",
    "\n",
    "env = gym.make('Taxi-v3')"
   ]
  },
  {
   "cell_type": "code",
   "execution_count": 3,
   "metadata": {},
   "outputs": [],
   "source": [
    "from agents.qlearning_agent import QLearningAgent\n",
    "\n",
    "agent = QLearningAgent(env.action_space, env.observation_space)"
   ]
  },
  {
   "cell_type": "code",
   "execution_count": 4,
   "metadata": {},
   "outputs": [
    {
     "name": "stdout",
     "output_type": "stream",
     "text": [
      "Episode: 10000\n",
      "\n",
      "Average penalties over episode 0.9423057694230577\n",
      "Completions 9765\n"
     ]
    }
   ],
   "source": [
    "from IPython.display import clear_output\n",
    "\n",
    "total_penalties = 0\n",
    "episodes = 10001\n",
    "completions = 0\n",
    "\n",
    "for episode in range(episodes):\n",
    "    if episode % 100 == 0:\n",
    "        clear_output(wait=True)\n",
    "        print(\"Episode:\", episode)\n",
    "        \n",
    "    state = env.reset()\n",
    "    reward = 0\n",
    "    done = False\n",
    "    penalties = 0\n",
    "    # env.render()\n",
    "    while not done:\n",
    "        # env.render()\n",
    "        action = agent.get_action(state)\n",
    "        next_state, reward, done, info = env.step(action)\n",
    "        agent.update(state, action, next_state, reward)\n",
    "\n",
    "        state = next_state\n",
    "\n",
    "        if reward == -10:\n",
    "            penalties += 1\n",
    "        \n",
    "        if reward == 20:\n",
    "            completions += 1\n",
    "\n",
    "    total_penalties += penalties\n",
    "\n",
    "print()\n",
    "print(\"Average penalties over episode\", total_penalties / episodes)\n",
    "print(\"Completions\", completions)"
   ]
  },
  {
   "cell_type": "code",
   "execution_count": 5,
   "metadata": {},
   "outputs": [],
   "source": [
    "def render_frame():\n",
    "    clear_output(wait=True)\n",
    "    env.render()\n",
    "    print(\"State\", state)\n",
    "    print(\"Reward\", reward)\n",
    "    print(\"Done\", done)\n",
    "    sleep(.3)"
   ]
  },
  {
   "cell_type": "code",
   "execution_count": 6,
   "metadata": {},
   "outputs": [
    {
     "name": "stdout",
     "output_type": "stream",
     "text": [
      "+---------+\n",
      "|R: | : :G|\n",
      "| : | : : |\n",
      "| : : : : |\n",
      "| | : | : |\n",
      "|Y| : |\u001b[35m\u001b[34;1m\u001b[43mB\u001b[0m\u001b[0m\u001b[0m: |\n",
      "+---------+\n",
      "  (Dropoff)\n",
      "State 475\n",
      "Reward 20\n",
      "Done True\n",
      "\n",
      "Average penalties over episode 0.0\n",
      "Completions 9\n"
     ]
    }
   ],
   "source": [
    "from time import sleep\n",
    "\n",
    "total_penalties = 0\n",
    "episodes = 10\n",
    "completions = 0\n",
    "\n",
    "for episode in range(episodes):\n",
    "    state = env.reset()\n",
    "    reward = 0\n",
    "    done = False\n",
    "    penalties = 0\n",
    "    # env.render()\n",
    "    while not done:\n",
    "        action = agent.get_policy(state)\n",
    "        next_state, reward, done, info = env.step(action)\n",
    "        \n",
    "        state = next_state\n",
    "\n",
    "        if reward == -10:\n",
    "            penalties += 1\n",
    "        \n",
    "        if reward == 20:\n",
    "            completions += 1\n",
    "\n",
    "        render_frame()\n",
    "        \n",
    "    total_penalties += penalties\n",
    "\n",
    "print()\n",
    "print(\"Average penalties over episode\", total_penalties / episodes)\n",
    "print(\"Completions\", completions)"
   ]
  },
  {
   "cell_type": "code",
   "execution_count": null,
   "metadata": {},
   "outputs": [],
   "source": []
  },
  {
   "cell_type": "code",
   "execution_count": null,
   "metadata": {},
   "outputs": [],
   "source": []
  }
 ],
 "metadata": {
  "kernelspec": {
   "display_name": "Python 3",
   "language": "python",
   "name": "python3"
  },
  "language_info": {
   "codemirror_mode": {
    "name": "ipython",
    "version": 3
   },
   "file_extension": ".py",
   "mimetype": "text/x-python",
   "name": "python",
   "nbconvert_exporter": "python",
   "pygments_lexer": "ipython3",
   "version": "3.7.5"
  }
 },
 "nbformat": 4,
 "nbformat_minor": 4
}
